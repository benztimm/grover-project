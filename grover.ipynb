{
 "cells": [
  {
   "cell_type": "code",
   "execution_count": 1,
   "id": "99315463-5c14-4360-afcf-865a4b460cd7",
   "metadata": {},
   "outputs": [
    {
     "name": "stderr",
     "output_type": "stream",
     "text": [
      "C:\\Users\\ekara\\AppData\\Local\\Temp\\ipykernel_29988\\2386640195.py:15: DeprecationWarning: The qiskit.IBMQ entrypoint and the qiskit-ibmq-provider package (accessible from 'qiskit.providers.ibmq`) are deprecated and will be removed in a future release. Instead you should use the qiskit-ibm-provider package which is accessible from 'qiskit_ibm_provider'. You can install it with 'pip install qiskit_ibm_provider'. Just replace 'qiskit.IBMQ' with 'qiskit_ibm_provider.IBMProvider'\n",
      "  IBMQ.save_account(IBMQ_API_TOKEN, overwrite=True)\n",
      "C:\\Users\\ekara\\AppData\\Local\\Temp\\ipykernel_29988\\2386640195.py:15: DeprecationWarning: The package qiskit.providers.ibmq is being deprecated. Please see https://ibm.biz/provider_migration_guide to get instructions on how to migrate to qiskit-ibm-provider (https://github.com/Qiskit/qiskit-ibm-provider) and qiskit-ibm-runtime (https://github.com/Qiskit/qiskit-ibm-runtime).\n",
      "  IBMQ.save_account(IBMQ_API_TOKEN, overwrite=True)\n"
     ]
    },
    {
     "data": {
      "text/plain": [
       "<AccountProvider for IBMQ(hub='ibm-q', group='open', project='main')>"
      ]
     },
     "execution_count": 1,
     "metadata": {},
     "output_type": "execute_result"
    }
   ],
   "source": [
    "from qiskit import IBMQ, QuantumCircuit, Aer, execute,transpile\n",
    "from qiskit.quantum_info import Statevector, Operator\n",
    "import math\n",
    "from qiskit.visualization import plot_histogram, plot_bloch_multivector, plot_state_qsphere, plot_distribution\n",
    "from IPython.display import Markdown, HTML\n",
    "import matplotlib.pyplot as plt\n",
    "\n",
    "import os\n",
    "from dotenv import load_dotenv\n",
    "\n",
    "load_dotenv()\n",
    "\n",
    "IBMQ_API_TOKEN = os.getenv('IBMQ_API_TOKEN')\n",
    "\n",
    "IBMQ.save_account(IBMQ_API_TOKEN, overwrite=True)\n",
    "IBMQ.load_account()\n",
    "\n"
   ]
  },
  {
   "cell_type": "code",
   "execution_count": 2,
   "id": "d5d8564b-f820-4ff4-9a4c-1b82b1e6b8a8",
   "metadata": {},
   "outputs": [],
   "source": [
    "def apply_n_hgates(qc, n):\n",
    "    qc.h(range(n))\n",
    "    return qc\n",
    "\n",
    "def init_n_qubit_circuit(n):\n",
    "    qc=QuantumCircuit(n,n)\n",
    "    return qc\n",
    "\n",
    "def grovers_algorithm(n, solutions, iterations):\n",
    "    # Initialize the quantum circuit\n",
    "    qc = init_n_qubit_circuit(n)\n",
    "    qc.barrier(label=\"init\")\n",
    "\n",
    "    # Apply Hadamard gates to all qubits to create a superposition\n",
    "    qc = apply_n_hgates(qc, n)\n",
    "    \n",
    "    # Apply the oracle and the diffuser multiple times\n",
    "    for i in range(iterations):\n",
    "        # Multi-target oracle\n",
    "        oracle_circuit = multi_target_oracle(n, solutions)\n",
    "        qc.barrier(label=f\"O_{i+1}\")\n",
    "        qc = qc.compose(oracle_circuit)\n",
    "\n",
    "        \n",
    "        # Diffuser\n",
    "        diffuser_circuit = diffuser(n)\n",
    "        qc.barrier(label=f\"D_{i+1}\")\n",
    "        qc = qc.compose(diffuser_circuit)\n",
    "    qc.measure(range(n), range(n))\n",
    "    return qc\n",
    "\n",
    "\n",
    "def multi_target_oracle(n, solutions):\n",
    "    oracle = QuantumCircuit(n)\n",
    "    for solution in solutions:\n",
    "        # Apply X gates to match the '0' in the solution\n",
    "        for qubit in range(n):\n",
    "            if solution[n-1-qubit] == '0':\n",
    "                oracle.x(qubit)\n",
    "\n",
    "        # Apply Controlled-Z\n",
    "        oracle.h(0)  # Apply Hadamard to the target qubit\n",
    "        oracle.mcx(list(range(1, n)), 0)  # Control on all higher bits, target is 0\n",
    "        oracle.h(0)\n",
    "\n",
    "        # Uncompute (cleanup X gates)\n",
    "        for qubit in range(n):\n",
    "            if solution[n-1-qubit] == '0':\n",
    "                oracle.x(qubit)\n",
    "\n",
    "    return oracle\n",
    "\n",
    "def diffuser(n):\n",
    "    qc = QuantumCircuit(n)\n",
    "    \n",
    "    # Apply Hadamard gates to all qubits\n",
    "    qc.h(range(n))\n",
    "    # Apply Pauli-X gates to all qubits\n",
    "    qc.x(range(n))\n",
    "    # Apply a multi-controlled-Z gate\n",
    "    # First, apply Hadamard to the target qubit\n",
    "    qc.h(n-1)\n",
    "    # Apply the multi-controlled-X gate (acting as a multi-controlled-Z)\n",
    "    # which controls are on all other qubits and target is the last qubit\n",
    "    qc.mcx(list(range(n-1)), n-1)\n",
    "    # Apply Hadamard again to the target qubit\n",
    "    qc.h(n-1)\n",
    "    # Apply Pauli-X gates to all qubits again\n",
    "    qc.x(range(n))\n",
    "    # Apply Hadamard gates to all qubits to finish\n",
    "    qc.h(range(n))\n",
    "\n",
    "    return qc"
   ]
  },
  {
   "cell_type": "code",
   "execution_count": 3,
   "id": "16bd59e8-12ab-47b1-ab53-1e6b041d2df2",
   "metadata": {},
   "outputs": [],
   "source": [
    "provider = IBMQ.get_provider('ibm-q')\n",
    "backend = provider.get_backend('ibm_sherbrooke')  # Replace with your backend\n"
   ]
  },
  {
   "cell_type": "code",
   "execution_count": 4,
   "id": "138a9ac4-894d-4c1a-89f9-26894bd8835f",
   "metadata": {},
   "outputs": [],
   "source": [
    "n = 5  # Number of qubits\n",
    "solutions = ['11111']\n",
    "iterations = math.floor((math.pi/4)*(math.sqrt((2**n)/(len(solutions)))))"
   ]
  },
  {
   "cell_type": "code",
   "execution_count": 5,
   "id": "52832cf8-9953-4fc9-8f58-696d70d3f707",
   "metadata": {},
   "outputs": [],
   "source": [
    "n = 5  # Number of qubits\n",
    "solutions = ['11111']\n",
    "iterations = math.floor((math.pi/4)*(math.sqrt((2**n)/(len(solutions)))))\n",
    "grover_circuit = grovers_algorithm(n, solutions, iterations)"
   ]
  },
  {
   "cell_type": "code",
   "execution_count": 32,
   "id": "e872eb19-3b13-413f-8fc4-a329f57938ff",
   "metadata": {},
   "outputs": [
    {
     "data": {
      "text/html": [
       "<pre style=\"word-wrap: normal;white-space: pre;background: #fff0;line-height: 1.1;font-family: &quot;Courier New&quot;,Courier,monospace\">      init ┌───┐ O_1 ┌───┐┌───┐┌───┐ D_1 ┌───┐┌───┐          ┌───┐┌───┐     »\n",
       "q_0: ──░───┤ H ├──░──┤ H ├┤ X ├┤ H ├──░──┤ H ├┤ X ├───────■──┤ X ├┤ H ├─────»\n",
       "       ░   ├───┤  ░  └───┘└─┬─┘└───┘  ░  ├───┤├───┤       │  ├───┤├───┤     »\n",
       "q_1: ──░───┤ H ├──░─────────■─────────░──┤ H ├┤ X ├───────■──┤ X ├┤ H ├─────»\n",
       "       ░   ├───┤  ░         │         ░  ├───┤├───┤       │  ├───┤├───┤     »\n",
       "q_2: ──░───┤ H ├──░─────────■─────────░──┤ H ├┤ X ├───────■──┤ X ├┤ H ├─────»\n",
       "       ░   ├───┤  ░         │         ░  ├───┤├───┤       │  ├───┤├───┤     »\n",
       "q_3: ──░───┤ H ├──░─────────■─────────░──┤ H ├┤ X ├───────■──┤ X ├┤ H ├─────»\n",
       "       ░   ├───┤  ░         │         ░  ├───┤├───┤┌───┐┌─┴─┐├───┤├───┤┌───┐»\n",
       "q_4: ──░───┤ H ├──░─────────■─────────░──┤ H ├┤ X ├┤ H ├┤ X ├┤ H ├┤ X ├┤ H ├»\n",
       "       ░   └───┘  ░                   ░  └───┘└───┘└───┘└───┘└───┘└───┘└───┘»\n",
       "c: 5/═══════════════════════════════════════════════════════════════════════»\n",
       "                                                                            »\n",
       "«      O_2 ┌───┐┌───┐┌───┐ D_2 ┌───┐┌───┐          ┌───┐┌───┐      O_3 ┌───┐»\n",
       "«q_0: ──░──┤ H ├┤ X ├┤ H ├──░──┤ H ├┤ X ├───────■──┤ X ├┤ H ├───────░──┤ H ├»\n",
       "«       ░  └───┘└─┬─┘└───┘  ░  ├───┤├───┤       │  ├───┤├───┤       ░  └───┘»\n",
       "«q_1: ──░─────────■─────────░──┤ H ├┤ X ├───────■──┤ X ├┤ H ├───────░───────»\n",
       "«       ░         │         ░  ├───┤├───┤       │  ├───┤├───┤       ░       »\n",
       "«q_2: ──░─────────■─────────░──┤ H ├┤ X ├───────■──┤ X ├┤ H ├───────░───────»\n",
       "«       ░         │         ░  ├───┤├───┤       │  ├───┤├───┤       ░       »\n",
       "«q_3: ──░─────────■─────────░──┤ H ├┤ X ├───────■──┤ X ├┤ H ├───────░───────»\n",
       "«       ░         │         ░  ├───┤├───┤┌───┐┌─┴─┐├───┤├───┤┌───┐  ░       »\n",
       "«q_4: ──░─────────■─────────░──┤ H ├┤ X ├┤ H ├┤ X ├┤ H ├┤ X ├┤ H ├──░───────»\n",
       "«       ░                   ░  └───┘└───┘└───┘└───┘└───┘└───┘└───┘  ░       »\n",
       "«c: 5/══════════════════════════════════════════════════════════════════════»\n",
       "«                                                                           »\n",
       "«     ┌───┐┌───┐ D_3 ┌───┐┌───┐          ┌───┐┌───┐      O_4 ┌───┐┌───┐┌───┐»\n",
       "«q_0: ┤ X ├┤ H ├──░──┤ H ├┤ X ├───────■──┤ X ├┤ H ├───────░──┤ H ├┤ X ├┤ H ├»\n",
       "«     └─┬─┘└───┘  ░  ├───┤├───┤       │  ├───┤├───┤       ░  └───┘└─┬─┘└───┘»\n",
       "«q_1: ──■─────────░──┤ H ├┤ X ├───────■──┤ X ├┤ H ├───────░─────────■───────»\n",
       "«       │         ░  ├───┤├───┤       │  ├───┤├───┤       ░         │       »\n",
       "«q_2: ──■─────────░──┤ H ├┤ X ├───────■──┤ X ├┤ H ├───────░─────────■───────»\n",
       "«       │         ░  ├───┤├───┤       │  ├───┤├───┤       ░         │       »\n",
       "«q_3: ──■─────────░──┤ H ├┤ X ├───────■──┤ X ├┤ H ├───────░─────────■───────»\n",
       "«       │         ░  ├───┤├───┤┌───┐┌─┴─┐├───┤├───┤┌───┐  ░         │       »\n",
       "«q_4: ──■─────────░──┤ H ├┤ X ├┤ H ├┤ X ├┤ H ├┤ X ├┤ H ├──░─────────■───────»\n",
       "«                 ░  └───┘└───┘└───┘└───┘└───┘└───┘└───┘  ░                 »\n",
       "«c: 5/══════════════════════════════════════════════════════════════════════»\n",
       "«                                                                           »\n",
       "«      D_4 ┌───┐┌───┐          ┌───┐┌───┐     ┌─┐            \n",
       "«q_0: ──░──┤ H ├┤ X ├───────■──┤ X ├┤ H ├─────┤M├────────────\n",
       "«       ░  ├───┤├───┤       │  ├───┤├───┤     └╥┘┌─┐         \n",
       "«q_1: ──░──┤ H ├┤ X ├───────■──┤ X ├┤ H ├──────╫─┤M├─────────\n",
       "«       ░  ├───┤├───┤       │  ├───┤├───┤      ║ └╥┘┌─┐      \n",
       "«q_2: ──░──┤ H ├┤ X ├───────■──┤ X ├┤ H ├──────╫──╫─┤M├──────\n",
       "«       ░  ├───┤├───┤       │  ├───┤├───┤      ║  ║ └╥┘┌─┐   \n",
       "«q_3: ──░──┤ H ├┤ X ├───────■──┤ X ├┤ H ├──────╫──╫──╫─┤M├───\n",
       "«       ░  ├───┤├───┤┌───┐┌─┴─┐├───┤├───┤┌───┐ ║  ║  ║ └╥┘┌─┐\n",
       "«q_4: ──░──┤ H ├┤ X ├┤ H ├┤ X ├┤ H ├┤ X ├┤ H ├─╫──╫──╫──╫─┤M├\n",
       "«       ░  └───┘└───┘└───┘└───┘└───┘└───┘└───┘ ║  ║  ║  ║ └╥┘\n",
       "«c: 5/═════════════════════════════════════════╩══╩══╩══╩══╩═\n",
       "«                                              0  1  2  3  4 </pre>"
      ],
      "text/plain": [
       "      init ┌───┐ O_1 ┌───┐┌───┐┌───┐ D_1 ┌───┐┌───┐          ┌───┐┌───┐     »\n",
       "q_0: ──░───┤ H ├──░──┤ H ├┤ X ├┤ H ├──░──┤ H ├┤ X ├───────■──┤ X ├┤ H ├─────»\n",
       "       ░   ├───┤  ░  └───┘└─┬─┘└───┘  ░  ├───┤├───┤       │  ├───┤├───┤     »\n",
       "q_1: ──░───┤ H ├──░─────────■─────────░──┤ H ├┤ X ├───────■──┤ X ├┤ H ├─────»\n",
       "       ░   ├───┤  ░         │         ░  ├───┤├───┤       │  ├───┤├───┤     »\n",
       "q_2: ──░───┤ H ├──░─────────■─────────░──┤ H ├┤ X ├───────■──┤ X ├┤ H ├─────»\n",
       "       ░   ├───┤  ░         │         ░  ├───┤├───┤       │  ├───┤├───┤     »\n",
       "q_3: ──░───┤ H ├──░─────────■─────────░──┤ H ├┤ X ├───────■──┤ X ├┤ H ├─────»\n",
       "       ░   ├───┤  ░         │         ░  ├───┤├───┤┌───┐┌─┴─┐├───┤├───┤┌───┐»\n",
       "q_4: ──░───┤ H ├──░─────────■─────────░──┤ H ├┤ X ├┤ H ├┤ X ├┤ H ├┤ X ├┤ H ├»\n",
       "       ░   └───┘  ░                   ░  └───┘└───┘└───┘└───┘└───┘└───┘└───┘»\n",
       "c: 5/═══════════════════════════════════════════════════════════════════════»\n",
       "                                                                            »\n",
       "«      O_2 ┌───┐┌───┐┌───┐ D_2 ┌───┐┌───┐          ┌───┐┌───┐      O_3 ┌───┐»\n",
       "«q_0: ──░──┤ H ├┤ X ├┤ H ├──░──┤ H ├┤ X ├───────■──┤ X ├┤ H ├───────░──┤ H ├»\n",
       "«       ░  └───┘└─┬─┘└───┘  ░  ├───┤├───┤       │  ├───┤├───┤       ░  └───┘»\n",
       "«q_1: ──░─────────■─────────░──┤ H ├┤ X ├───────■──┤ X ├┤ H ├───────░───────»\n",
       "«       ░         │         ░  ├───┤├───┤       │  ├───┤├───┤       ░       »\n",
       "«q_2: ──░─────────■─────────░──┤ H ├┤ X ├───────■──┤ X ├┤ H ├───────░───────»\n",
       "«       ░         │         ░  ├───┤├───┤       │  ├───┤├───┤       ░       »\n",
       "«q_3: ──░─────────■─────────░──┤ H ├┤ X ├───────■──┤ X ├┤ H ├───────░───────»\n",
       "«       ░         │         ░  ├───┤├───┤┌───┐┌─┴─┐├───┤├───┤┌───┐  ░       »\n",
       "«q_4: ──░─────────■─────────░──┤ H ├┤ X ├┤ H ├┤ X ├┤ H ├┤ X ├┤ H ├──░───────»\n",
       "«       ░                   ░  └───┘└───┘└───┘└───┘└───┘└───┘└───┘  ░       »\n",
       "«c: 5/══════════════════════════════════════════════════════════════════════»\n",
       "«                                                                           »\n",
       "«     ┌───┐┌───┐ D_3 ┌───┐┌───┐          ┌───┐┌───┐      O_4 ┌───┐┌───┐┌───┐»\n",
       "«q_0: ┤ X ├┤ H ├──░──┤ H ├┤ X ├───────■──┤ X ├┤ H ├───────░──┤ H ├┤ X ├┤ H ├»\n",
       "«     └─┬─┘└───┘  ░  ├───┤├───┤       │  ├───┤├───┤       ░  └───┘└─┬─┘└───┘»\n",
       "«q_1: ──■─────────░──┤ H ├┤ X ├───────■──┤ X ├┤ H ├───────░─────────■───────»\n",
       "«       │         ░  ├───┤├───┤       │  ├───┤├───┤       ░         │       »\n",
       "«q_2: ──■─────────░──┤ H ├┤ X ├───────■──┤ X ├┤ H ├───────░─────────■───────»\n",
       "«       │         ░  ├───┤├───┤       │  ├───┤├───┤       ░         │       »\n",
       "«q_3: ──■─────────░──┤ H ├┤ X ├───────■──┤ X ├┤ H ├───────░─────────■───────»\n",
       "«       │         ░  ├───┤├───┤┌───┐┌─┴─┐├───┤├───┤┌───┐  ░         │       »\n",
       "«q_4: ──■─────────░──┤ H ├┤ X ├┤ H ├┤ X ├┤ H ├┤ X ├┤ H ├──░─────────■───────»\n",
       "«                 ░  └───┘└───┘└───┘└───┘└───┘└───┘└───┘  ░                 »\n",
       "«c: 5/══════════════════════════════════════════════════════════════════════»\n",
       "«                                                                           »\n",
       "«      D_4 ┌───┐┌───┐          ┌───┐┌───┐     ┌─┐            \n",
       "«q_0: ──░──┤ H ├┤ X ├───────■──┤ X ├┤ H ├─────┤M├────────────\n",
       "«       ░  ├───┤├───┤       │  ├───┤├───┤     └╥┘┌─┐         \n",
       "«q_1: ──░──┤ H ├┤ X ├───────■──┤ X ├┤ H ├──────╫─┤M├─────────\n",
       "«       ░  ├───┤├───┤       │  ├───┤├───┤      ║ └╥┘┌─┐      \n",
       "«q_2: ──░──┤ H ├┤ X ├───────■──┤ X ├┤ H ├──────╫──╫─┤M├──────\n",
       "«       ░  ├───┤├───┤       │  ├───┤├───┤      ║  ║ └╥┘┌─┐   \n",
       "«q_3: ──░──┤ H ├┤ X ├───────■──┤ X ├┤ H ├──────╫──╫──╫─┤M├───\n",
       "«       ░  ├───┤├───┤┌───┐┌─┴─┐├───┤├───┤┌───┐ ║  ║  ║ └╥┘┌─┐\n",
       "«q_4: ──░──┤ H ├┤ X ├┤ H ├┤ X ├┤ H ├┤ X ├┤ H ├─╫──╫──╫──╫─┤M├\n",
       "«       ░  └───┘└───┘└───┘└───┘└───┘└───┘└───┘ ║  ║  ║  ║ └╥┘\n",
       "«c: 5/═════════════════════════════════════════╩══╩══╩══╩══╩═\n",
       "«                                              0  1  2  3  4 "
      ]
     },
     "metadata": {},
     "output_type": "display_data"
    },
    {
     "data": {
      "image/png": "[encoded data removed]",
      "text/plain": [
       "<Figure size 700x500 with 1 Axes>"
      ]
     },
     "metadata": {},
     "output_type": "display_data"
    }
   ],
   "source": [
    "sim = Aer.get_backend('qasm_simulator')\n",
    "compiled_circuit = transpile(grover_circuit, backend=sim, optimization_level=1)\n",
    "display(compiled_circuit.draw())\n",
    "\n",
    "# Execute the circuit\n",
    "job = sim.run(compiled_circuit, shots=1000)\n",
    "result = job.result()\n",
    "\n",
    "# Obtain and plot the counts\n",
    "counts = result.get_counts()\n",
    "display(plot_histogram(counts))"
   ]
  },
  {
   "cell_type": "code",
   "execution_count": 6,
   "id": "f00050df-6b89-47d8-bf3b-95103b4a2ad5",
   "metadata": {},
   "outputs": [
    {
     "name": "stdout",
     "output_type": "stream",
     "text": [
      "OrderedDict([('rz', 2262), ('sx', 1413), ('ecr', 505), ('x', 75), ('barrier', 10), ('measure', 5)])\n"
     ]
    }
   ],
   "source": [
    "transpiled_qc = transpile(grover_circuit, backend=backend, optimization_level=3)\n",
    "print(transpiled_qc.count_ops())\n"
   ]
  },
  {
   "cell_type": "code",
   "execution_count": null,
   "id": "151718ce-c54b-4fe7-8421-07a87c9c802a",
   "metadata": {},
   "outputs": [],
   "source": [
    "job = backend.run(transpiled_qc, shots=1000)\n",
    "result = job.result()  # Fetch results\n",
    "counts = result.get_counts(grover_circuit)  # Get the count of each measurement result\n",
    "display(plot_histogram(counts))"
   ]
  },
  {
   "cell_type": "code",
   "execution_count": 20,
   "id": "9bc56d10-0a84-43da-871a-9c57d47fab1e",
   "metadata": {},
   "outputs": [],
   "source": []
  },
  {
   "cell_type": "code",
   "execution_count": null,
   "id": "d8dd0a7a-b45b-475e-a558-b7833ed3313e",
   "metadata": {},
   "outputs": [],
   "source": []
  },
  {
   "cell_type": "code",
   "execution_count": null,
   "id": "0cd5c81d-e865-46b9-9bd9-9dd0988b80f6",
   "metadata": {},
   "outputs": [],
   "source": []
  },
  {
   "cell_type": "code",
   "execution_count": null,
   "id": "870b25ff-e5d5-4ece-8c03-01dc307d167b",
   "metadata": {},
   "outputs": [],
   "source": []
  }
 ],
 "metadata": {
  "kernelspec": {
   "display_name": "Python 3 (ipykernel)",
   "language": "python",
   "name": "python3"
  },
  "language_info": {
   "codemirror_mode": {
    "name": "ipython",
    "version": 3
   },
   "file_extension": ".py",
   "mimetype": "text/x-python",
   "name": "python",
   "nbconvert_exporter": "python",
   "pygments_lexer": "ipython3",
   "version": "3.11.9"
  }
 },
 "nbformat": 4,
 "nbformat_minor": 5
}
